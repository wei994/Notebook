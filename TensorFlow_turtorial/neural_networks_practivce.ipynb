{
 "cells": [
  {
   "cell_type": "markdown",
   "metadata": {},
   "source": [
    "# 对各个时期出现的神经网络模型的练习"
   ]
  },
  {
   "cell_type": "markdown",
   "metadata": {},
   "source": [
    "## LeNet"
   ]
  },
  {
   "cell_type": "code",
   "execution_count": 4,
   "metadata": {},
   "outputs": [],
   "source": [
    "import tensorflow as tf\n",
    "\n",
    "from tensorflow.keras.layers import Conv2D, MaxPool2D, Dense, Flatten\n",
    "from tensorflow.keras.models import Sequential"
   ]
  },
  {
   "cell_type": "code",
   "execution_count": 5,
   "metadata": {},
   "outputs": [],
   "source": [
    "def LeNet():\n",
    "    model = Sequential([\n",
    "        Conv2D(32, (5,5), strides=(1,1), input_shape=(28,28,1), padding='valid' ,activation='relu', kernel_initializer='uniform'),\n",
    "        MaxPool2D(pool_size=(2,2)),\n",
    "        Conv2D(64, (5,5), strides=(1,1), padding='valid', activation='relu',kernel_initializer='uniform'),\n",
    "        MaxPool2D(pool_size=(2,2)),\n",
    "        Flatten(),\n",
    "        Dense(100,activation='relu'),\n",
    "        Dense(10,activation='softmax')\n",
    "    ])\n",
    "    return model\n",
    "    "
   ]
  },
  {
   "cell_type": "markdown",
   "metadata": {},
   "source": [
    "## AlexNet"
   ]
  },
  {
   "cell_type": "code",
   "execution_count": null,
   "metadata": {},
   "outputs": [],
   "source": []
  }
 ],
 "metadata": {
  "kernelspec": {
   "display_name": "Python 3",
   "language": "python",
   "name": "python3"
  },
  "language_info": {
   "codemirror_mode": {
    "name": "ipython",
    "version": 3
   },
   "file_extension": ".py",
   "mimetype": "text/x-python",
   "name": "python",
   "nbconvert_exporter": "python",
   "pygments_lexer": "ipython3",
   "version": "3.11.9"
  }
 },
 "nbformat": 4,
 "nbformat_minor": 2
}
