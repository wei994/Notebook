{
 "cells": [
  {
   "cell_type": "markdown",
   "metadata": {},
   "source": [
    "# Git 文件版本管理系统学习笔记 --基础命令行"
   ]
  },
  {
   "cell_type": "markdown",
   "metadata": {},
   "source": [
    "## Git 文件基本状态\n",
    "\n",
    "**未追踪文件 Untracked files:**  文件已修改，但未被git追踪，commit的文件里不会有这些文件  \n",
    "\n",
    "**已修改 Changes not staged for commit:**  文件被追踪，追踪文件已被修改，但未暂存\n",
    "\n",
    "**已暂存  Changes to be committed:**  修改文件已被暂存，下一次commit会更新这些文件\n",
    "\n",
    "\n"
   ]
  },
  {
   "cell_type": "code",
   "execution_count": null,
   "metadata": {
    "vscode": {
     "languageId": "plaintext"
    }
   },
   "outputs": [],
   "source": [
    "git status //查看文件状态\n",
    "git status -s // 状态简览"
   ]
  },
  {
   "cell_type": "markdown",
   "metadata": {},
   "source": [
    "## 文件夹初始化\n",
    "初始化文件夹，生成.git 的子目录"
   ]
  },
  {
   "cell_type": "code",
   "execution_count": null,
   "metadata": {
    "vscode": {
     "languageId": "plaintext"
    }
   },
   "outputs": [],
   "source": [
    "git init"
   ]
  },
  {
   "cell_type": "markdown",
   "metadata": {},
   "source": [
    "## 连接远程仓库\n",
    "git remote  查看远程仓库信息\n",
    "\n",
    "若没有任何显示，表示没有仓库信息，需要连接远程仓库"
   ]
  },
  {
   "cell_type": "code",
   "execution_count": null,
   "metadata": {
    "vscode": {
     "languageId": "plaintext"
    }
   },
   "outputs": [],
   "source": [
    "git remote"
   ]
  },
  {
   "cell_type": "markdown",
   "metadata": {},
   "source": [
    "连接远程仓库\n",
    "\n",
    "\"wei994/notebook.git\" 修改为自己的“用户名/仓库名.git\"连接上相应的仓库\n",
    "\n",
    "关于通过ssh密匙连接远程仓库请看参考或另一篇文章"
   ]
  },
  {
   "cell_type": "code",
   "execution_count": null,
   "metadata": {
    "vscode": {
     "languageId": "plaintext"
    }
   },
   "outputs": [],
   "source": [
    "git remote add origin git@github.com:wei994/notebook.git\n",
    "\n",
    "git remote -v //查看远程仓库信息"
   ]
  },
  {
   "cell_type": "markdown",
   "metadata": {},
   "source": [
    "## 文件暂存"
   ]
  },
  {
   "cell_type": "code",
   "execution_count": null,
   "metadata": {
    "vscode": {
     "languageId": "plaintext"
    }
   },
   "outputs": [],
   "source": [
    "git add . //将所有已修改文件暂存，下一次commit将上传这些已修改文件的暂存文件\n",
    "\n",
    "git add + filename //将特定文件暂存"
   ]
  },
  {
   "cell_type": "markdown",
   "metadata": {},
   "source": [
    "## 提交更新\n",
    "文件暂存后就可以提交了\n"
   ]
  },
  {
   "cell_type": "markdown",
   "metadata": {},
   "source": [
    "git commit \n",
    "git commit -m \"Message\" //-m 命令可以在提交更新时添加注释\n",
    "git commit -a //自动把所有已经跟踪的文件暂存一起提交，跳过git add步骤"
   ]
  },
  {
   "cell_type": "markdown",
   "metadata": {},
   "source": [
    "## 将更改推送到远程服务器\n",
    "第一次push 时 由于远程库是空的，第一次推送master分支时 加上-u 参数Git不但会把本地的master分支内容推送的远程新的master分支，还会把本地的master分支和远程的master分支关联起来，推送成功后，可以立刻在github页面中看到远程库的内容已经和本地一模一样了\n"
   ]
  },
  {
   "cell_type": "code",
   "execution_count": null,
   "metadata": {
    "vscode": {
     "languageId": "plaintext"
    }
   },
   "outputs": [],
   "source": [
    "git push origin master \n",
    "git push -u origin master "
   ]
  },
  {
   "cell_type": "markdown",
   "metadata": {},
   "source": [
    "## 本地仓库同步远程仓库\n",
    "如果需要把远程仓库同步到 本地仓库 我们就要拉取最新数据到本地仓库，命令如下"
   ]
  },
  {
   "cell_type": "code",
   "execution_count": null,
   "metadata": {
    "vscode": {
     "languageId": "plaintext"
    }
   },
   "outputs": [],
   "source": [
    "git pull origin master"
   ]
  },
  {
   "cell_type": "markdown",
   "metadata": {},
   "source": [
    "## 忽略文件 \n",
    "有些文件无需纳入 Git 的管理，也不希望它们总出现在未跟踪文件列表。 通常都是些自动生成的文件，比如日志文件，或者编译过程中创建的临时文件等。 在这种情况下，我们可以创建一个名为 .gitignore 的文件"
   ]
  },
  {
   "cell_type": "code",
   "execution_count": null,
   "metadata": {
    "vscode": {
     "languageId": "plaintext"
    }
   },
   "outputs": [],
   "source": [
    "cat .gitignore"
   ]
  },
  {
   "cell_type": "markdown",
   "metadata": {},
   "source": [
    "## 移除文件"
   ]
  }
 ],
 "metadata": {
  "language_info": {
   "name": "python"
  }
 },
 "nbformat": 4,
 "nbformat_minor": 2
}
