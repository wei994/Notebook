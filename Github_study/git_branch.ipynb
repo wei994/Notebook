{
 "cells": [
  {
   "cell_type": "markdown",
   "metadata": {},
   "source": [
    "# Git 分支操作学习笔记\n",
    "Git 创建任务分支时，并不是将文件全部备份，而是创建新的快照/文件索引。\n",
    "\n",
    "分支可以当目前版本遇到问题时，进行修改但不影响当前版本内容，待问题解决后可将新的分支合并到原有分支中，分支管理是git的一个核心功能\n"
   ]
  },
  {
   "cell_type": "markdown",
   "metadata": {},
   "source": [
    "## 查看分支\n"
   ]
  },
  {
   "cell_type": "code",
   "execution_count": null,
   "metadata": {
    "vscode": {
     "languageId": "plaintext"
    }
   },
   "outputs": [],
   "source": [
    "git branch #查看所有本地分支\n",
    "git branch -r #查看所有远程分支李彪\n",
    "gri branch -a #列出当前仓库所有本地和远程分支"
   ]
  },
  {
   "cell_type": "markdown",
   "metadata": {},
   "source": [
    "## 分支新建与合并\n",
    "分支创建"
   ]
  },
  {
   "cell_type": "code",
   "execution_count": null,
   "metadata": {
    "vscode": {
     "languageId": "plaintext"
    }
   },
   "outputs": [],
   "source": [
    "git branch test #创建名为test 的新分支\n",
    "git checkout test #切换到test 分支\n",
    "git checkout -b test #创建test 分支并切换到test分支"
   ]
  },
  {
   "cell_type": "markdown",
   "metadata": {},
   "source": [
    "当做了修改并在test分支做了提交时，原分支main仍保留之前版本的快照，此时切回main 分支再做修改， test 分支修改的内容不会保留在main 分支上"
   ]
  },
  {
   "cell_type": "code",
   "execution_count": null,
   "metadata": {
    "vscode": {
     "languageId": "plaintext"
    }
   },
   "outputs": [],
   "source": [
    "git log --oneline --decorate --graph -all #查看分叉指向，提交历史以及项目分支分叉情况"
   ]
  },
  {
   "cell_type": "markdown",
   "metadata": {},
   "source": [
    "**分支合并**\n",
    "\n",
    "当分支内容修改完后可以回到mamin分支，将分支内容合并进主分支"
   ]
  },
  {
   "cell_type": "code",
   "execution_count": null,
   "metadata": {
    "vscode": {
     "languageId": "plaintext"
    }
   },
   "outputs": [],
   "source": [
    "git checkout main #切换回mian分支\n",
    "git merge test #合并test到当前分支\n",
    "git branch -d test #删除test 分支，因为不需要了"
   ]
  },
  {
   "cell_type": "markdown",
   "metadata": {},
   "source": [
    "**分支冲突**\n",
    "\n",
    "当合并不同分支时，如果两条分支都修改了文件同一位置的内容，将会导致冲突，必须解决冲突后再合并"
   ]
  },
  {
   "cell_type": "markdown",
   "metadata": {},
   "source": [
    "## 分支管理\n",
    "\n",
    "**查看每一个分支的最后一次提交**"
   ]
  },
  {
   "cell_type": "markdown",
   "metadata": {},
   "source": [
    "git branch -v"
   ]
  },
  {
   "cell_type": "markdown",
   "metadata": {},
   "source": [
    "**查看分支合并情况**"
   ]
  },
  {
   "cell_type": "code",
   "execution_count": null,
   "metadata": {
    "vscode": {
     "languageId": "plaintext"
    }
   },
   "outputs": [],
   "source": [
    "git branch --merged #查看已合并到当前分支的分支\n",
    "git branch --no-merged #查看未合并分支\n",
    "git branch --no-merged master #查看未合并到master的分支"
   ]
  },
  {
   "cell_type": "markdown",
   "metadata": {},
   "source": [
    "未合并的分支有未合并的工作，git branch -d 删除命令会失效\n",
    "git barnch -D 强制删除分支并丢弃这些工作"
   ]
  },
  {
   "cell_type": "markdown",
   "metadata": {},
   "source": [
    "## 远程分支\n",
    "以上操作都是在本地分支上进行操作，需要同步到远程仓库的分支"
   ]
  },
  {
   "cell_type": "code",
   "execution_count": null,
   "metadata": {
    "vscode": {
     "languageId": "plaintext"
    }
   },
   "outputs": [],
   "source": [
    "git ls -remote origin #获取远程仓库origin 的分支列表\n",
    "\n",
    "#origin 命名的远程仓库名\n",
    "#远程分支以 <remote>/<branch>形式命名\n"
   ]
  },
  {
   "cell_type": "markdown",
   "metadata": {},
   "source": [
    "本地和远程的工作可以分叉 git fetch \\<remote\\>可以 与给定的远程仓库同步数据，抓取本地没有的数据并更新本地数据库\n",
    "\n",
    "可以同时连接多个远程仓库和分支"
   ]
  },
  {
   "cell_type": "markdown",
   "metadata": {},
   "source": [
    "git remote add  origin2 #添加新的远程仓库 ，改远程仓库为目前远程仓库额自己\n",
    "\n",
    "由于有多个分支，可以选择将想推送的分支推送到服务器上，私人分支将保留在本地\n",
    "git push remote branch"
   ]
  },
  {
   "cell_type": "code",
   "execution_count": null,
   "metadata": {
    "vscode": {
     "languageId": "plaintext"
    }
   },
   "outputs": [],
   "source": [
    "git push orgin main #推送origin/main 分支到远程服务器\n",
    "git checkout --track origin/test #跟踪 远程mtest分支\n",
    "git checkout -b tt origin/test #自动从origin/test 分支拉取并待 tt 本地分支\n",
    "git branch -vv #产看设置的所有跟踪分支"
   ]
  },
  {
   "cell_type": "code",
   "execution_count": null,
   "metadata": {
    "vscode": {
     "languageId": "plaintext"
    }
   },
   "outputs": [],
   "source": [
    "$ git branch -vv\n",
    "  iss53     7e424c3 [origin/iss53: ahead 2] forgot the brackets\n",
    "  master    1ae2a45 [origin/master] deploying index fix\n",
    "* serverfix f8674d9 [teamone/server-fix-good: ahead 3, behind 1] this should do it\n",
    "  testing   5ea463a trying something new"
   ]
  },
  {
   "cell_type": "code",
   "execution_count": null,
   "metadata": {
    "vscode": {
     "languageId": "plaintext"
    }
   },
   "outputs": [],
   "source": [
    "git fetch --all;git branch -vv #更新抓取所有远程仓库的所有分支\n",
    "git push origin --delete test #删除远程test 分支"
   ]
  },
  {
   "cell_type": "markdown",
   "metadata": {},
   "source": [
    "# 变基 rebase\n",
    "使用 rebase 命令将提交到某一分支上的所有修改都移至另一分支上，就好像“重新播放”一样。\n",
    "\n",
    "如果提交存在于你的仓库之外，而别人可能基于这些提交进行开发，那么不要执行变基。\n"
   ]
  },
  {
   "cell_type": "markdown",
   "metadata": {},
   "source": [
    "git checkout test\n",
    "git rebase master #将master 共同祖先的修改应用到 test 分支山\n",
    "git checout master \n",
    "git merge test #合并test到master"
   ]
  }
 ],
 "metadata": {
  "language_info": {
   "name": "python"
  }
 },
 "nbformat": 4,
 "nbformat_minor": 2
}
